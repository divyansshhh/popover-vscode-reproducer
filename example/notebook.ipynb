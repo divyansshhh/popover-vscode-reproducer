{
  "cells": [
    {
      "cell_type": "markdown",
      "metadata": {},
      "source": [
        "# Your Custom Renderer"
      ]
    },
    {
      "cell_type": "markdown",
      "metadata": {},
      "source": [
        "This is a Jupyter notebook file. Down below, we've created output as if a cell was executed and generated `x-application/custom-json-output` output. You can use the **View: Reopen Editor With...** command to view the JSON source of this notebook and change the output data. Or, you can installed the Python extension (for example) and replace the code cell below with one that generates the output you expect"
      ]
    },
    {
      "cell_type": "code",
      "execution_count": 4,
      "metadata": {},
      "outputs": [],
      "source": [
        "class ModalRepr:\n",
        "    def __init__(self):\n",
        "        pass\n",
        "\n",
        "    def _repr_mimebundle_(self, *args, **kwargs):\n",
        "        return {\n",
        "            'x-application/custom-json-output': {\n",
        "                \"data\": \"hello\"\n",
        "            },\n",
        "        }"
      ]
    },
    {
      "cell_type": "code",
      "execution_count": 5,
      "metadata": {},
      "outputs": [
        {
          "data": {
            "text/plain": [
              "<__main__.ModalRepr at 0x7f36385dd480>"
            ],
            "x-application/custom-json-output": {
              "data": "hello"
            }
          },
          "metadata": {},
          "output_type": "display_data"
        }
      ],
      "source": [
        "from IPython.display import display\n",
        "display(ModalRepr())"
      ]
    }
  ],
  "metadata": {
    "kernelspec": {
      "display_name": "Python 3.10 (XPython)",
      "language": "python",
      "name": "xpython"
    },
    "language_info": {
      "file_extension": ".py",
      "mimetype": "text/x-python",
      "name": "python",
      "version": "3.10.0"
    },
    "orig_nbformat": 4
  },
  "nbformat": 4,
  "nbformat_minor": 2
}
